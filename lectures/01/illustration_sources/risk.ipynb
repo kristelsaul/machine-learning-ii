{
 "cells": [
  {
   "cell_type": "markdown",
   "id": "5b467227",
   "metadata": {},
   "source": [
    "## What is risk?\n",
    "\n",
    "Let there be a disribution"
   ]
  },
  {
   "cell_type": "code",
   "execution_count": 5,
   "id": "0f2f4523",
   "metadata": {},
   "outputs": [],
   "source": [
    "import numpy as np\n",
    "from numpy.random import uniform"
   ]
  },
  {
   "cell_type": "code",
   "execution_count": 2,
   "id": "02165d88",
   "metadata": {},
   "outputs": [
    {
     "data": {
      "text/plain": [
       "array([0.17993473, 0.89271241, 0.42133034, 0.02172442, 0.9222357 ,\n",
       "       0.43574048, 0.34014759, 0.48771449, 0.30645144, 0.67549347])"
      ]
     },
     "execution_count": 2,
     "metadata": {},
     "output_type": "execute_result"
    }
   ],
   "source": [
    "uniform(size=10)"
   ]
  },
  {
   "cell_type": "markdown",
   "id": "468c4efe",
   "metadata": {},
   "source": [
    "Let there be input distribution"
   ]
  },
  {
   "cell_type": "code",
   "execution_count": 26,
   "id": "e9ed1091",
   "metadata": {},
   "outputs": [
    {
     "name": "stdout",
     "output_type": "stream",
     "text": [
      "x = 0.5148105856190667\n"
     ]
    }
   ],
   "source": [
    "x = uniform(size=1)[0] \n",
    "print(f'x = {x}')"
   ]
  },
  {
   "cell_type": "markdown",
   "id": "b6e4479a",
   "metadata": {},
   "source": [
    "Let there be a deterministic labelling rule  "
   ]
  },
  {
   "cell_type": "code",
   "execution_count": 27,
   "id": "4869fc87",
   "metadata": {},
   "outputs": [
    {
     "name": "stdout",
     "output_type": "stream",
     "text": [
      "y = 1\n"
     ]
    }
   ],
   "source": [
    "y = round(x)\n",
    "print(f'y = {y}')"
   ]
  },
  {
   "cell_type": "markdown",
   "id": "1f043378",
   "metadata": {},
   "source": [
    "Let there be a prefiction $f: \\mathcal{X}\\to\\mathcal{Y}$"
   ]
  },
  {
   "cell_type": "code",
   "execution_count": 28,
   "id": "809a7e6f",
   "metadata": {},
   "outputs": [],
   "source": [
    "def f(x):\n",
    "    return 1"
   ]
  },
  {
   "cell_type": "markdown",
   "id": "22300b05",
   "metadata": {},
   "source": [
    "Let there be a loss function $L:\\mathcal{Y}\\times\\mathcal{Y}\\to \\mathbb{R}$"
   ]
  },
  {
   "cell_type": "code",
   "execution_count": 33,
   "id": "a9612b47",
   "metadata": {},
   "outputs": [],
   "source": [
    "def L(y_true, y_pred):\n",
    "    return int(y_true != y_pred)"
   ]
  },
  {
   "cell_type": "code",
   "execution_count": 34,
   "id": "cc8927db",
   "metadata": {},
   "outputs": [
    {
     "name": "stdout",
     "output_type": "stream",
     "text": [
      "Observed loss: 1\n"
     ]
    }
   ],
   "source": [
    "observed_loss = L(y, f(x))\n",
    "print(f'Observed loss: {loss}')"
   ]
  },
  {
   "cell_type": "markdown",
   "id": "540988ea",
   "metadata": {},
   "source": [
    "## Theoretical risk as infinite average"
   ]
  },
  {
   "cell_type": "code",
   "execution_count": 38,
   "id": "624c484f",
   "metadata": {},
   "outputs": [],
   "source": [
    "def L(y_true, y_pred):\n",
    "    return (y_true != y_pred).astype(int)"
   ]
  },
  {
   "cell_type": "code",
   "execution_count": 40,
   "id": "297b1824",
   "metadata": {},
   "outputs": [
    {
     "data": {
      "text/plain": [
       "0.515"
      ]
     },
     "execution_count": 40,
     "metadata": {},
     "output_type": "execute_result"
    }
   ],
   "source": [
    "x = uniform(size=1000)\n",
    "y_true = np.round(x)\n",
    "y_pred = f(x)\n",
    "losses = L(y_true, y_pred)\n",
    "np.mean(losses)"
   ]
  }
 ],
 "metadata": {
  "kernelspec": {
   "display_name": "Python 3 (ipykernel)",
   "language": "python",
   "name": "python3"
  },
  "language_info": {
   "codemirror_mode": {
    "name": "ipython",
    "version": 3
   },
   "file_extension": ".py",
   "mimetype": "text/x-python",
   "name": "python",
   "nbconvert_exporter": "python",
   "pygments_lexer": "ipython3",
   "version": "3.8.12"
  }
 },
 "nbformat": 4,
 "nbformat_minor": 5
}
