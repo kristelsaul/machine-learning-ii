{
 "cells": [
  {
   "cell_type": "code",
   "execution_count": 13,
   "id": "92176253",
   "metadata": {},
   "outputs": [],
   "source": [
    "from statsmodels.stats.proportion import samplesize_confint_proportion"
   ]
  },
  {
   "cell_type": "code",
   "execution_count": 15,
   "id": "4b9d4264",
   "metadata": {},
   "outputs": [
    {
     "data": {
      "text/plain": [
       "9603.647051735317"
      ]
     },
     "execution_count": 15,
     "metadata": {},
     "output_type": "execute_result"
    }
   ],
   "source": [
    "samplesize_confint_proportion(proportion=0.5, half_length=0.01)"
   ]
  },
  {
   "cell_type": "code",
   "execution_count": 51,
   "id": "eaab2a6c",
   "metadata": {},
   "outputs": [],
   "source": [
    "import pandas as pd"
   ]
  },
  {
   "cell_type": "code",
   "execution_count": 40,
   "id": "33be4370",
   "metadata": {},
   "outputs": [],
   "source": [
    "from pandas import concat"
   ]
  },
  {
   "cell_type": "code",
   "execution_count": 16,
   "id": "8e97cbc1",
   "metadata": {},
   "outputs": [],
   "source": [
    "from pandas import DataFrame"
   ]
  },
  {
   "cell_type": "code",
   "execution_count": 41,
   "id": "e3bd1681",
   "metadata": {},
   "outputs": [],
   "source": [
    "bounds = DataFrame({'precision': [10**(-i/2) for i in range(1,12)]}) "
   ]
  },
  {
   "cell_type": "code",
   "execution_count": 52,
   "id": "17b00bbc",
   "metadata": {},
   "outputs": [],
   "source": [
    "bounds = concat([\n",
    "    bounds\n",
    "    .assign(accuracy=0.5)\n",
    "    .assign(sample_size=lambda df: samplesize_confint_proportion(\n",
    "        proportion=0.5, half_length=df['precision'], alpha=0.05)),\n",
    "    bounds\n",
    "    .assign(accuracy=0.7)\n",
    "    .assign(sample_size=lambda df: samplesize_confint_proportion(\n",
    "        proportion=0.7, half_length=df['precision'], alpha=0.05)),\n",
    "    bounds\n",
    "    .assign(accuracy=0.9)\n",
    "    .assign(sample_size=lambda df: samplesize_confint_proportion(\n",
    "        proportion=0.9, half_length=df['precision'], alpha=0.05)),\n",
    "    ], axis=0)\n",
    "\n",
    "bounds['accuracy'] = pd.Categorical(bounds['accuracy'], categories=[0.5, 0.7, 0.9], ordered=True)"
   ]
  },
  {
   "cell_type": "code",
   "execution_count": 48,
   "id": "2cbcb8d4",
   "metadata": {},
   "outputs": [
    {
     "data": {
      "text/html": [
       "<div>\n",
       "<style scoped>\n",
       "    .dataframe tbody tr th:only-of-type {\n",
       "        vertical-align: middle;\n",
       "    }\n",
       "\n",
       "    .dataframe tbody tr th {\n",
       "        vertical-align: top;\n",
       "    }\n",
       "\n",
       "    .dataframe thead th {\n",
       "        text-align: right;\n",
       "    }\n",
       "</style>\n",
       "<table border=\"1\" class=\"dataframe\">\n",
       "  <thead>\n",
       "    <tr style=\"text-align: right;\">\n",
       "      <th></th>\n",
       "      <th>precision</th>\n",
       "      <th>accuracy</th>\n",
       "      <th>sample_size</th>\n",
       "    </tr>\n",
       "  </thead>\n",
       "  <tbody>\n",
       "    <tr>\n",
       "      <th>0</th>\n",
       "      <td>0.316228</td>\n",
       "      <td>0.5</td>\n",
       "      <td>9.603647e+00</td>\n",
       "    </tr>\n",
       "    <tr>\n",
       "      <th>1</th>\n",
       "      <td>0.100000</td>\n",
       "      <td>0.5</td>\n",
       "      <td>9.603647e+01</td>\n",
       "    </tr>\n",
       "    <tr>\n",
       "      <th>2</th>\n",
       "      <td>0.031623</td>\n",
       "      <td>0.5</td>\n",
       "      <td>9.603647e+02</td>\n",
       "    </tr>\n",
       "    <tr>\n",
       "      <th>3</th>\n",
       "      <td>0.010000</td>\n",
       "      <td>0.5</td>\n",
       "      <td>9.603647e+03</td>\n",
       "    </tr>\n",
       "    <tr>\n",
       "      <th>4</th>\n",
       "      <td>0.003162</td>\n",
       "      <td>0.5</td>\n",
       "      <td>9.603647e+04</td>\n",
       "    </tr>\n",
       "    <tr>\n",
       "      <th>...</th>\n",
       "      <td>...</td>\n",
       "      <td>...</td>\n",
       "      <td>...</td>\n",
       "    </tr>\n",
       "    <tr>\n",
       "      <th>6</th>\n",
       "      <td>0.000316</td>\n",
       "      <td>0.9</td>\n",
       "      <td>3.457313e+06</td>\n",
       "    </tr>\n",
       "    <tr>\n",
       "      <th>7</th>\n",
       "      <td>0.000100</td>\n",
       "      <td>0.9</td>\n",
       "      <td>3.457313e+07</td>\n",
       "    </tr>\n",
       "    <tr>\n",
       "      <th>8</th>\n",
       "      <td>0.000032</td>\n",
       "      <td>0.9</td>\n",
       "      <td>3.457313e+08</td>\n",
       "    </tr>\n",
       "    <tr>\n",
       "      <th>9</th>\n",
       "      <td>0.000010</td>\n",
       "      <td>0.9</td>\n",
       "      <td>3.457313e+09</td>\n",
       "    </tr>\n",
       "    <tr>\n",
       "      <th>10</th>\n",
       "      <td>0.000003</td>\n",
       "      <td>0.9</td>\n",
       "      <td>3.457313e+10</td>\n",
       "    </tr>\n",
       "  </tbody>\n",
       "</table>\n",
       "<p>99 rows × 3 columns</p>\n",
       "</div>"
      ],
      "text/plain": [
       "    precision  accuracy   sample_size\n",
       "0    0.316228       0.5  9.603647e+00\n",
       "1    0.100000       0.5  9.603647e+01\n",
       "2    0.031623       0.5  9.603647e+02\n",
       "3    0.010000       0.5  9.603647e+03\n",
       "4    0.003162       0.5  9.603647e+04\n",
       "..        ...       ...           ...\n",
       "6    0.000316       0.9  3.457313e+06\n",
       "7    0.000100       0.9  3.457313e+07\n",
       "8    0.000032       0.9  3.457313e+08\n",
       "9    0.000010       0.9  3.457313e+09\n",
       "10   0.000003       0.9  3.457313e+10\n",
       "\n",
       "[99 rows x 3 columns]"
      ]
     },
     "execution_count": 48,
     "metadata": {},
     "output_type": "execute_result"
    }
   ],
   "source": [
    "bounds"
   ]
  },
  {
   "cell_type": "code",
   "execution_count": 30,
   "id": "8ed05006",
   "metadata": {},
   "outputs": [],
   "source": [
    "bounds['sample_size'] = samplesize_confint_proportion(proportion=0.5, half_length=bounds['precision'], alpha=0.05)"
   ]
  },
  {
   "cell_type": "code",
   "execution_count": 32,
   "id": "0f74508a",
   "metadata": {},
   "outputs": [],
   "source": [
    "bounds['accuracy'] = 0.5"
   ]
  },
  {
   "cell_type": "code",
   "execution_count": 33,
   "id": "88aab67d",
   "metadata": {},
   "outputs": [
    {
     "data": {
      "text/html": [
       "<div>\n",
       "<style scoped>\n",
       "    .dataframe tbody tr th:only-of-type {\n",
       "        vertical-align: middle;\n",
       "    }\n",
       "\n",
       "    .dataframe tbody tr th {\n",
       "        vertical-align: top;\n",
       "    }\n",
       "\n",
       "    .dataframe thead th {\n",
       "        text-align: right;\n",
       "    }\n",
       "</style>\n",
       "<table border=\"1\" class=\"dataframe\">\n",
       "  <thead>\n",
       "    <tr style=\"text-align: right;\">\n",
       "      <th></th>\n",
       "      <th>precision</th>\n",
       "      <th>sample_size</th>\n",
       "      <th>accuracy</th>\n",
       "    </tr>\n",
       "  </thead>\n",
       "  <tbody>\n",
       "    <tr>\n",
       "      <th>0</th>\n",
       "      <td>0.316228</td>\n",
       "      <td>9.603647e+00</td>\n",
       "      <td>0.5</td>\n",
       "    </tr>\n",
       "    <tr>\n",
       "      <th>1</th>\n",
       "      <td>0.100000</td>\n",
       "      <td>9.603647e+01</td>\n",
       "      <td>0.5</td>\n",
       "    </tr>\n",
       "    <tr>\n",
       "      <th>2</th>\n",
       "      <td>0.031623</td>\n",
       "      <td>9.603647e+02</td>\n",
       "      <td>0.5</td>\n",
       "    </tr>\n",
       "    <tr>\n",
       "      <th>3</th>\n",
       "      <td>0.010000</td>\n",
       "      <td>9.603647e+03</td>\n",
       "      <td>0.5</td>\n",
       "    </tr>\n",
       "    <tr>\n",
       "      <th>4</th>\n",
       "      <td>0.003162</td>\n",
       "      <td>9.603647e+04</td>\n",
       "      <td>0.5</td>\n",
       "    </tr>\n",
       "    <tr>\n",
       "      <th>5</th>\n",
       "      <td>0.001000</td>\n",
       "      <td>9.603647e+05</td>\n",
       "      <td>0.5</td>\n",
       "    </tr>\n",
       "    <tr>\n",
       "      <th>6</th>\n",
       "      <td>0.000316</td>\n",
       "      <td>9.603647e+06</td>\n",
       "      <td>0.5</td>\n",
       "    </tr>\n",
       "    <tr>\n",
       "      <th>7</th>\n",
       "      <td>0.000100</td>\n",
       "      <td>9.603647e+07</td>\n",
       "      <td>0.5</td>\n",
       "    </tr>\n",
       "    <tr>\n",
       "      <th>8</th>\n",
       "      <td>0.000032</td>\n",
       "      <td>9.603647e+08</td>\n",
       "      <td>0.5</td>\n",
       "    </tr>\n",
       "    <tr>\n",
       "      <th>9</th>\n",
       "      <td>0.000010</td>\n",
       "      <td>9.603647e+09</td>\n",
       "      <td>0.5</td>\n",
       "    </tr>\n",
       "    <tr>\n",
       "      <th>10</th>\n",
       "      <td>0.000003</td>\n",
       "      <td>9.603647e+10</td>\n",
       "      <td>0.5</td>\n",
       "    </tr>\n",
       "  </tbody>\n",
       "</table>\n",
       "</div>"
      ],
      "text/plain": [
       "    precision   sample_size  accuracy\n",
       "0    0.316228  9.603647e+00       0.5\n",
       "1    0.100000  9.603647e+01       0.5\n",
       "2    0.031623  9.603647e+02       0.5\n",
       "3    0.010000  9.603647e+03       0.5\n",
       "4    0.003162  9.603647e+04       0.5\n",
       "5    0.001000  9.603647e+05       0.5\n",
       "6    0.000316  9.603647e+06       0.5\n",
       "7    0.000100  9.603647e+07       0.5\n",
       "8    0.000032  9.603647e+08       0.5\n",
       "9    0.000010  9.603647e+09       0.5\n",
       "10   0.000003  9.603647e+10       0.5"
      ]
     },
     "execution_count": 33,
     "metadata": {},
     "output_type": "execute_result"
    }
   ],
   "source": [
    "bounds"
   ]
  },
  {
   "cell_type": "code",
   "execution_count": 34,
   "id": "b3a14125",
   "metadata": {},
   "outputs": [],
   "source": [
    "from plotnine import *"
   ]
  },
  {
   "cell_type": "code",
   "execution_count": 77,
   "id": "4260ba37",
   "metadata": {},
   "outputs": [
    {
     "data": {
      "image/png": "[encoded data removed]",
      "text/plain": [
       "<Figure size 640x480 with 1 Axes>"
      ]
     },
     "metadata": {},
     "output_type": "display_data"
    },
    {
     "data": {
      "text/plain": [
       "<ggplot: (707981638)>"
      ]
     },
     "metadata": {},
     "output_type": "display_data"
    }
   ],
   "source": [
    "p  = ggplot(bounds) + geom_line(aes(x='precision', y='sample_size', color='accuracy', linetype='accuracy'))\n",
    "p += ggtitle('Sample size versus precision')\n",
    "p += scale_y_log10(name='Sample size', breaks = [1000, 1000**2, 1000**3], labels =['$10^3$', '$10^6$', '$10^9$'])\n",
    "p += scale_x_log10(name='Precision', \n",
    "                   breaks=[10**(-5), 10**(-4), 10**(-3), 10**(-2), 10**(-1)], \n",
    "                   labels=['$10^{-5}$', '$10^{-4}$', '$10^{-3}$', '$10^{-2}$', '$10^{-1}$']) \n",
    "p += scale_color_manual(name='True accuracy', values = ['black', 'blue', 'green'], labels = ['50%', '70%', '90%'])\n",
    "p += scale_linetype_discrete(name='True accuracy', labels = ['50%', '70%', '90%'] ) \n",
    "display(p)\n",
    "p.save('sample_size_vs_precision.pdf', verbose=False)"
   ]
  },
  {
   "cell_type": "code",
   "execution_count": 81,
   "id": "bc94f3cb",
   "metadata": {},
   "outputs": [
    {
     "data": {
      "text/plain": [
       "3457.3129386247138"
      ]
     },
     "execution_count": 81,
     "metadata": {},
     "output_type": "execute_result"
    }
   ],
   "source": [
    "samplesize_confint_proportion(proportion=0.9, half_length=0.01, alpha=0.05)"
   ]
  },
  {
   "cell_type": "code",
   "execution_count": 80,
   "id": "f4c0201e",
   "metadata": {},
   "outputs": [
    {
     "data": {
      "text/plain": [
       "9603.647051735317"
      ]
     },
     "execution_count": 80,
     "metadata": {},
     "output_type": "execute_result"
    }
   ],
   "source": [
    "samplesize_confint_proportion(proportion=0.5, half_length=0.01, alpha=0.05)"
   ]
  },
  {
   "cell_type": "code",
   "execution_count": 82,
   "id": "3c4de6ec",
   "metadata": {},
   "outputs": [
    {
     "data": {
      "text/plain": [
       "38414.58820694127"
      ]
     },
     "execution_count": 82,
     "metadata": {},
     "output_type": "execute_result"
    }
   ],
   "source": [
    "samplesize_confint_proportion(proportion=0.5, half_length=0.005, alpha=0.05)"
   ]
  },
  {
   "cell_type": "code",
   "execution_count": 83,
   "id": "a66778c6",
   "metadata": {},
   "outputs": [
    {
     "data": {
      "text/plain": [
       "960364.7051735317"
      ]
     },
     "execution_count": 83,
     "metadata": {},
     "output_type": "execute_result"
    }
   ],
   "source": [
    "samplesize_confint_proportion(proportion=0.5, half_length=0.001, alpha=0.05)"
   ]
  }
 ],
 "metadata": {
  "kernelspec": {
   "display_name": "Python 3 (ipykernel)",
   "language": "python",
   "name": "python3"
  },
  "language_info": {
   "codemirror_mode": {
    "name": "ipython",
    "version": 3
   },
   "file_extension": ".py",
   "mimetype": "text/x-python",
   "name": "python",
   "nbconvert_exporter": "python",
   "pygments_lexer": "ipython3",
   "version": "3.8.13"
  }
 },
 "nbformat": 4,
 "nbformat_minor": 5
}
