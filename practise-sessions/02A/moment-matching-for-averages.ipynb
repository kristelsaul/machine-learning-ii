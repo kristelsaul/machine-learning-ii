{
 "cells": [
  {
   "cell_type": "markdown",
   "metadata": {},
   "source": [
    "## Moment matching for averages "
   ]
  },
  {
   "cell_type": "code",
   "execution_count": 1,
   "metadata": {},
   "outputs": [],
   "source": [
    "import numpy as np\n",
    "import pandas as pd\n",
    "\n",
    "from pandas import Series\n",
    "from pandas import DataFrame\n",
    "\n",
    "from numpy.random import random\n",
    "\n",
    "from plotnine import *\n",
    "\n",
    "# Local imports\n",
    "from convenience import *"
   ]
  },
  {
   "cell_type": "code",
   "execution_count": 2,
   "metadata": {},
   "outputs": [],
   "source": [
    "np.random.seed(1351430195)"
   ]
  },
  {
   "cell_type": "markdown",
   "metadata": {},
   "source": [
    "## Crossvalidation error as a double average\n",
    "\n",
    "To derive a naive confidence intervals we just have to assume that:\n",
    "* all crossvalidation spits are independent\n",
    "* for each split we get a model with the same risk (true test error)\n",
    "\n",
    "For clarity, let us consider 10-fold crossvalidation on 1000 element dataset.\n",
    "* Let the true test error be $0.75$. \n",
    "* Then each prediction is correct with pobability $0.75$.\n",
    "* Testing error for each split is just a mean of 100 element cointoss sequence."
   ]
  },
  {
   "cell_type": "code",
   "execution_count": 3,
   "metadata": {},
   "outputs": [
    {
     "data": {
      "text/plain": [
       "array([1, 1, 1, 0, 1, 1, 1, 1, 1, 1])"
      ]
     },
     "metadata": {},
     "output_type": "display_data"
    },
    {
     "data": {
      "text/plain": [
       "[array([1, 1, 1, 1, 0, 1, 0, 1, 0, 1]),\n",
       " array([1, 0, 0, 1, 1, 1, 1, 0, 1, 1]),\n",
       " array([1, 1, 1, 1, 0, 1, 1, 1, 1, 1]),\n",
       " array([1, 0, 1, 1, 0, 1, 1, 1, 1, 1]),\n",
       " array([0, 1, 1, 1, 1, 0, 1, 1, 1, 1]),\n",
       " array([1, 1, 1, 1, 1, 0, 0, 1, 1, 1]),\n",
       " array([0, 1, 1, 0, 1, 1, 1, 0, 1, 1]),\n",
       " array([1, 1, 1, 1, 1, 0, 1, 1, 1, 1]),\n",
       " array([0, 1, 1, 0, 1, 1, 1, 1, 1, 0]),\n",
       " array([1, 1, 1, 1, 1, 0, 1, 1, 1, 1])]"
      ]
     },
     "metadata": {},
     "output_type": "display_data"
    },
    {
     "data": {
      "text/html": [
       "<div>\n",
       "<style scoped>\n",
       "    .dataframe tbody tr th:only-of-type {\n",
       "        vertical-align: middle;\n",
       "    }\n",
       "\n",
       "    .dataframe tbody tr th {\n",
       "        vertical-align: top;\n",
       "    }\n",
       "\n",
       "    .dataframe thead th {\n",
       "        text-align: right;\n",
       "    }\n",
       "</style>\n",
       "<table border=\"1\" class=\"dataframe\">\n",
       "  <thead>\n",
       "    <tr style=\"text-align: right;\">\n",
       "      <th></th>\n",
       "      <th>test_fold</th>\n",
       "      <th>observations</th>\n",
       "    </tr>\n",
       "  </thead>\n",
       "  <tbody>\n",
       "    <tr>\n",
       "      <th>0</th>\n",
       "      <td>0</td>\n",
       "      <td>[1, 1, 0, 1, 1, 1, 1, 0, 1, 1, 0, 0, 1, 0, 1, ...</td>\n",
       "    </tr>\n",
       "    <tr>\n",
       "      <th>1</th>\n",
       "      <td>1</td>\n",
       "      <td>[1, 1, 1, 1, 1, 1, 1, 1, 0, 1, 1, 0, 1, 1, 1, ...</td>\n",
       "    </tr>\n",
       "    <tr>\n",
       "      <th>2</th>\n",
       "      <td>2</td>\n",
       "      <td>[1, 0, 1, 1, 1, 1, 0, 1, 1, 1, 0, 0, 1, 1, 0, ...</td>\n",
       "    </tr>\n",
       "    <tr>\n",
       "      <th>3</th>\n",
       "      <td>3</td>\n",
       "      <td>[1, 0, 1, 1, 1, 1, 1, 1, 1, 1, 1, 1, 1, 1, 1, ...</td>\n",
       "    </tr>\n",
       "    <tr>\n",
       "      <th>4</th>\n",
       "      <td>4</td>\n",
       "      <td>[0, 0, 1, 1, 1, 1, 1, 1, 1, 1, 0, 1, 1, 0, 0, ...</td>\n",
       "    </tr>\n",
       "    <tr>\n",
       "      <th>5</th>\n",
       "      <td>5</td>\n",
       "      <td>[0, 0, 0, 1, 1, 1, 1, 0, 0, 1, 0, 1, 0, 1, 1, ...</td>\n",
       "    </tr>\n",
       "    <tr>\n",
       "      <th>6</th>\n",
       "      <td>6</td>\n",
       "      <td>[1, 1, 1, 1, 1, 0, 0, 1, 1, 0, 1, 1, 1, 1, 1, ...</td>\n",
       "    </tr>\n",
       "    <tr>\n",
       "      <th>7</th>\n",
       "      <td>7</td>\n",
       "      <td>[1, 1, 0, 0, 1, 1, 1, 1, 0, 1, 1, 1, 1, 1, 1, ...</td>\n",
       "    </tr>\n",
       "    <tr>\n",
       "      <th>8</th>\n",
       "      <td>8</td>\n",
       "      <td>[1, 1, 1, 0, 1, 1, 1, 0, 1, 0, 0, 1, 1, 0, 1, ...</td>\n",
       "    </tr>\n",
       "    <tr>\n",
       "      <th>9</th>\n",
       "      <td>9</td>\n",
       "      <td>[1, 1, 0, 1, 1, 0, 0, 0, 0, 1, 1, 1, 0, 0, 1, ...</td>\n",
       "    </tr>\n",
       "  </tbody>\n",
       "</table>\n",
       "</div>"
      ],
      "text/plain": [
       "   test_fold                                       observations\n",
       "0          0  [1, 1, 0, 1, 1, 1, 1, 0, 1, 1, 0, 0, 1, 0, 1, ...\n",
       "1          1  [1, 1, 1, 1, 1, 1, 1, 1, 0, 1, 1, 0, 1, 1, 1, ...\n",
       "2          2  [1, 0, 1, 1, 1, 1, 0, 1, 1, 1, 0, 0, 1, 1, 0, ...\n",
       "3          3  [1, 0, 1, 1, 1, 1, 1, 1, 1, 1, 1, 1, 1, 1, 1, ...\n",
       "4          4  [0, 0, 1, 1, 1, 1, 1, 1, 1, 1, 0, 1, 1, 0, 0, ...\n",
       "5          5  [0, 0, 0, 1, 1, 1, 1, 0, 0, 1, 0, 1, 0, 1, 1, ...\n",
       "6          6  [1, 1, 1, 1, 1, 0, 0, 1, 1, 0, 1, 1, 1, 1, 1, ...\n",
       "7          7  [1, 1, 0, 0, 1, 1, 1, 1, 0, 1, 1, 1, 1, 1, 1, ...\n",
       "8          8  [1, 1, 1, 0, 1, 1, 1, 0, 1, 0, 0, 1, 1, 0, 1, ...\n",
       "9          9  [1, 1, 0, 1, 1, 0, 0, 0, 0, 1, 1, 1, 0, 0, 1, ..."
      ]
     },
     "metadata": {},
     "output_type": "display_data"
    }
   ],
   "source": [
    "# Observations on single fold\n",
    "display(1*(random(10) <= 0.75))\n",
    "\n",
    "# Observations for all folds\n",
    "display([1*(random(10) <= 0.75) for test_fold in range(10)])\n",
    "\n",
    "# Corresponding dataframe\n",
    "df = DataFrame([[test_fold, 1*(random(100) <= 0.75)] for test_fold in range(10)], \n",
    "               columns=['test_fold', 'observations'])\n",
    "display(df)"
   ]
  },
  {
   "cell_type": "markdown",
   "metadata": {},
   "source": [
    "## Empirical mean and variance estimates"
   ]
  },
  {
   "cell_type": "code",
   "execution_count": 4,
   "metadata": {},
   "outputs": [
    {
     "data": {
      "text/html": [
       "<div>\n",
       "<style scoped>\n",
       "    .dataframe tbody tr th:only-of-type {\n",
       "        vertical-align: middle;\n",
       "    }\n",
       "\n",
       "    .dataframe tbody tr th {\n",
       "        vertical-align: top;\n",
       "    }\n",
       "\n",
       "    .dataframe thead th {\n",
       "        text-align: right;\n",
       "    }\n",
       "</style>\n",
       "<table border=\"1\" class=\"dataframe\">\n",
       "  <thead>\n",
       "    <tr style=\"text-align: right;\">\n",
       "      <th></th>\n",
       "      <th>test_fold</th>\n",
       "      <th>observations</th>\n",
       "      <th>E</th>\n",
       "      <th>observation_variance</th>\n",
       "      <th>observation_mean</th>\n",
       "    </tr>\n",
       "  </thead>\n",
       "  <tbody>\n",
       "    <tr>\n",
       "      <th>0</th>\n",
       "      <td>0</td>\n",
       "      <td>[1, 1, 0, 1, 1, 1, 1, 0, 1, 1, 0, 0, 1, 0, 1, ...</td>\n",
       "      <td>0.70</td>\n",
       "      <td>0.2100</td>\n",
       "      <td>0.70</td>\n",
       "    </tr>\n",
       "    <tr>\n",
       "      <th>1</th>\n",
       "      <td>1</td>\n",
       "      <td>[1, 1, 1, 1, 1, 1, 1, 1, 0, 1, 1, 0, 1, 1, 1, ...</td>\n",
       "      <td>0.82</td>\n",
       "      <td>0.1476</td>\n",
       "      <td>0.82</td>\n",
       "    </tr>\n",
       "    <tr>\n",
       "      <th>2</th>\n",
       "      <td>2</td>\n",
       "      <td>[1, 0, 1, 1, 1, 1, 0, 1, 1, 1, 0, 0, 1, 1, 0, ...</td>\n",
       "      <td>0.75</td>\n",
       "      <td>0.1875</td>\n",
       "      <td>0.75</td>\n",
       "    </tr>\n",
       "    <tr>\n",
       "      <th>3</th>\n",
       "      <td>3</td>\n",
       "      <td>[1, 0, 1, 1, 1, 1, 1, 1, 1, 1, 1, 1, 1, 1, 1, ...</td>\n",
       "      <td>0.70</td>\n",
       "      <td>0.2100</td>\n",
       "      <td>0.70</td>\n",
       "    </tr>\n",
       "    <tr>\n",
       "      <th>4</th>\n",
       "      <td>4</td>\n",
       "      <td>[0, 0, 1, 1, 1, 1, 1, 1, 1, 1, 0, 1, 1, 0, 0, ...</td>\n",
       "      <td>0.74</td>\n",
       "      <td>0.1924</td>\n",
       "      <td>0.74</td>\n",
       "    </tr>\n",
       "    <tr>\n",
       "      <th>5</th>\n",
       "      <td>5</td>\n",
       "      <td>[0, 0, 0, 1, 1, 1, 1, 0, 0, 1, 0, 1, 0, 1, 1, ...</td>\n",
       "      <td>0.71</td>\n",
       "      <td>0.2059</td>\n",
       "      <td>0.71</td>\n",
       "    </tr>\n",
       "    <tr>\n",
       "      <th>6</th>\n",
       "      <td>6</td>\n",
       "      <td>[1, 1, 1, 1, 1, 0, 0, 1, 1, 0, 1, 1, 1, 1, 1, ...</td>\n",
       "      <td>0.73</td>\n",
       "      <td>0.1971</td>\n",
       "      <td>0.73</td>\n",
       "    </tr>\n",
       "    <tr>\n",
       "      <th>7</th>\n",
       "      <td>7</td>\n",
       "      <td>[1, 1, 0, 0, 1, 1, 1, 1, 0, 1, 1, 1, 1, 1, 1, ...</td>\n",
       "      <td>0.78</td>\n",
       "      <td>0.1716</td>\n",
       "      <td>0.78</td>\n",
       "    </tr>\n",
       "    <tr>\n",
       "      <th>8</th>\n",
       "      <td>8</td>\n",
       "      <td>[1, 1, 1, 0, 1, 1, 1, 0, 1, 0, 0, 1, 1, 0, 1, ...</td>\n",
       "      <td>0.76</td>\n",
       "      <td>0.1824</td>\n",
       "      <td>0.76</td>\n",
       "    </tr>\n",
       "    <tr>\n",
       "      <th>9</th>\n",
       "      <td>9</td>\n",
       "      <td>[1, 1, 0, 1, 1, 0, 0, 0, 0, 1, 1, 1, 0, 0, 1, ...</td>\n",
       "      <td>0.70</td>\n",
       "      <td>0.2100</td>\n",
       "      <td>0.70</td>\n",
       "    </tr>\n",
       "  </tbody>\n",
       "</table>\n",
       "</div>"
      ],
      "text/plain": [
       "   test_fold                                       observations     E  \\\n",
       "0          0  [1, 1, 0, 1, 1, 1, 1, 0, 1, 1, 0, 0, 1, 0, 1, ...  0.70   \n",
       "1          1  [1, 1, 1, 1, 1, 1, 1, 1, 0, 1, 1, 0, 1, 1, 1, ...  0.82   \n",
       "2          2  [1, 0, 1, 1, 1, 1, 0, 1, 1, 1, 0, 0, 1, 1, 0, ...  0.75   \n",
       "3          3  [1, 0, 1, 1, 1, 1, 1, 1, 1, 1, 1, 1, 1, 1, 1, ...  0.70   \n",
       "4          4  [0, 0, 1, 1, 1, 1, 1, 1, 1, 1, 0, 1, 1, 0, 0, ...  0.74   \n",
       "5          5  [0, 0, 0, 1, 1, 1, 1, 0, 0, 1, 0, 1, 0, 1, 1, ...  0.71   \n",
       "6          6  [1, 1, 1, 1, 1, 0, 0, 1, 1, 0, 1, 1, 1, 1, 1, ...  0.73   \n",
       "7          7  [1, 1, 0, 0, 1, 1, 1, 1, 0, 1, 1, 1, 1, 1, 1, ...  0.78   \n",
       "8          8  [1, 1, 1, 0, 1, 1, 1, 0, 1, 0, 0, 1, 1, 0, 1, ...  0.76   \n",
       "9          9  [1, 1, 0, 1, 1, 0, 0, 0, 0, 1, 1, 1, 0, 0, 1, ...  0.70   \n",
       "\n",
       "   observation_variance  observation_mean  \n",
       "0                0.2100              0.70  \n",
       "1                0.1476              0.82  \n",
       "2                0.1875              0.75  \n",
       "3                0.2100              0.70  \n",
       "4                0.1924              0.74  \n",
       "5                0.2059              0.71  \n",
       "6                0.1971              0.73  \n",
       "7                0.1716              0.78  \n",
       "8                0.1824              0.76  \n",
       "9                0.2100              0.70  "
      ]
     },
     "metadata": {},
     "output_type": "display_data"
    }
   ],
   "source": [
    "df = (df\n",
    "      .assign(E=lambda df: df['observations'].apply(np.mean))\n",
    "      .assign(observation_variance=lambda df: df['observations'].apply(np.var))\n",
    "      .assign(observation_mean=lambda df: df['observations'].apply(np.mean)))\n",
    "display(df)      "
   ]
  },
  {
   "cell_type": "markdown",
   "metadata": {},
   "source": [
    "* From this table it is clear that the variance of an individual observation is aproximately $0.19$\n",
    "\n",
    "* The corresponding variance of E  is appoximately $0.0014$."
   ]
  },
  {
   "cell_type": "code",
   "execution_count": 10,
   "metadata": {},
   "outputs": [
    {
     "data": {
      "text/plain": [
       "0.19144999999999998"
      ]
     },
     "metadata": {},
     "output_type": "display_data"
    },
    {
     "data": {
      "text/plain": [
       "0.001429000000000001"
      ]
     },
     "execution_count": 10,
     "metadata": {},
     "output_type": "execute_result"
    }
   ],
   "source": [
    "display(np.mean(df['observation_variance']))\n",
    "np.var(df['E'])"
   ]
  },
  {
   "cell_type": "markdown",
   "metadata": {},
   "source": [
    "## Theoretical variance estimate\n",
    "\n",
    "* By construction $E=\\frac{1}{100}(I_1+\\ldots+I_{100})$ where $I_i$ is the single observation.\n",
    "* As all observations are independent variance sum for $I_1+\\ldots+I_{100}$.\n",
    "* As coefficience goes come out as squares from the variance\n",
    "\n",
    "\\begin{align*}\n",
    "Var(E)=\\frac{1}{100^2}\\cdot Var(I_1+\\ldots+I_{10})=\\frac{1}{100}\\cdot Var(I) \n",
    "\\end{align*}\n",
    "\n",
    "This really is confirmed by our observations.    "
   ]
  },
  {
   "cell_type": "code",
   "execution_count": 11,
   "metadata": {},
   "outputs": [
    {
     "data": {
      "text/plain": [
       "0.0019"
      ]
     },
     "metadata": {},
     "output_type": "display_data"
    },
    {
     "data": {
      "text/plain": [
       "0.001429000000000001"
      ]
     },
     "execution_count": 11,
     "metadata": {},
     "output_type": "execute_result"
    }
   ],
   "source": [
    "display(0.19/100)\n",
    "np.var(df['E'])"
   ]
  },
  {
   "cell_type": "markdown",
   "metadata": {},
   "source": [
    "## Theoretical variance estimate for the average test error\n",
    "\n",
    "Note that $\\bar{E}=\\frac{1}{10}(E_1+\\cdots+E_{10})$ is just another average of independent observations with the same distribution. Thus\n",
    "\\begin{align*}\n",
    "Var(\\bar{E})=\\frac{1}{10}\\cdot Var(E_j)=\\frac{1}{10}\\cdot\\frac{1}{100}\\cdot Var(I_i)\n",
    "= \\frac{1}{1000}\\cdot Var(I_i)\n",
    "\\end{align*}\n",
    "The factor $\\frac{1}{1000}$ is not a coincidence as we \n",
    "\\begin{align*}\n",
    "\\bar{E}=\\frac{1}{1000}\\cdot (I_1+\\ldots+I_{1000})\n",
    "\\end{align*}\n",
    "if we open all brakets.\n",
    "Thus, the naive variance estimate for the crossvalidation error has the same variance as the holdout sample with the same size.  "
   ]
  },
  {
   "cell_type": "code",
   "execution_count": null,
   "metadata": {},
   "outputs": [],
   "source": []
  }
 ],
 "metadata": {
  "kernelspec": {
   "display_name": "Python 3",
   "language": "python",
   "name": "python3"
  },
  "language_info": {
   "codemirror_mode": {
    "name": "ipython",
    "version": 3
   },
   "file_extension": ".py",
   "mimetype": "text/x-python",
   "name": "python",
   "nbconvert_exporter": "python",
   "pygments_lexer": "ipython3",
   "version": "3.6.10"
  }
 },
 "nbformat": 4,
 "nbformat_minor": 4
}
