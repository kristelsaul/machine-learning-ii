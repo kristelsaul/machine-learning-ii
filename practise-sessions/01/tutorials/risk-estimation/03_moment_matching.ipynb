{
 "cells": [
  {
   "cell_type": "markdown",
   "id": "cbb4c07a",
   "metadata": {},
   "source": [
    "#  Moment matching\n",
    "\n",
    "* Central limit theorem states that a distribution for $X_1+\\cdots +X_n$ can be approximated with normal distribution $\\mathcal{N}(\\mu, \\sigma)$ for some  $\\mu$ and $\\sigma$.\n",
    "* Moment matching is a heuristic way to guess these parameters $\\mu$ and $\\sigma$ from observations."
   ]
  },
  {
   "cell_type": "markdown",
   "id": "fa1fe577",
   "metadata": {},
   "source": [
    "## I. Empirical paramater estimation\n",
    "\n",
    "Let $x_1, \\ldots, x_n$ be the observations. Then we can define the following point estimates\n",
    "\n",
    "\\begin{align*}\n",
    "\\hat{\\mu}&=\\frac{1}{n}\\cdot \\sum_{i=1}^n x_i\\\\\n",
    "\\hat{\\sigma}&=\\sqrt{\\frac{1}{n}\\cdot \\sum_{i=1}^n (x_i-\\hat{\\mu})^2}\n",
    "\\end{align*}\n",
    "\n",
    "Again central limit theorem assures that $\\hat{\\mu}$ is very close to the true mean $\\mu$ when the number observations $n$ is large. For the same reason $\\hat{\\sigma}$ is very close to the true variance $\\sigma$.\n",
    "For smaller datasets, statisticians use modified formulae that are likely to be more closer to the true values. "
   ]
  },
  {
   "cell_type": "markdown",
   "id": "375dc330",
   "metadata": {},
   "source": [
    "## II. Moment matching for the sum\n",
    "\n",
    "To find the approximation for the sum \n",
    "\n",
    "\\begin{align*}\n",
    "S=X_1+\\cdots+X_n\n",
    "\\end{align*}\n",
    "\n",
    "given point estimates $\\hat{\\mu}$ and $\\hat{\\sigma}$ we first compute the theoretical mean and variance for the sum\n",
    "\n",
    "\\begin{align*}\n",
    "\\mathbf{E}(S) &= \\mathbf{E}\\left(\\sum_{i=1}^n X_i\\right) =\\sum_{i=1}^n \\mathbf{E}(X_i)=n\\mu\\\\\n",
    "\\mathbf{D}(S) &= \\mathbf{D}\\left(\\sum_{i=1}^n X_i\\right) =\\sum_{i=1}^n \\mathbf{D}(X_i)=n\\sigma^2\\enspace.\n",
    "\\end{align*}\n",
    "\n",
    "Now we substitute theoretical parameters with their point estimates and get \n",
    "\n",
    "\\begin{align*}\n",
    "S\\approx\\mathcal{N}(n\\hat{\\mu}, \\sqrt{n}\\hat{\\sigma})\\enspace.\n",
    "\\end{align*}"
   ]
  },
  {
   "cell_type": "markdown",
   "id": "19821262",
   "metadata": {},
   "source": [
    "## III. Moment matching for the average\n",
    "\n",
    "To find the approximation for the average \n",
    "\n",
    "\\begin{align*}\n",
    " A=\\frac{X_1+\\cdots+X_n}{n}\n",
    "\\end{align*} \n",
    " \n",
    " given point estimates $\\hat{\\mu}$ and $\\hat{\\sigma}$ we first compute the theoretical mean and variance for the sum\n",
    "\n",
    "\\begin{align*}\n",
    "\\mathbf{E}(A) &= \\mathbf{E}\\left(\\frac{1}{n}\\cdot\\sum_{i=1}^n X_i\\right) =\\frac{1}{n}\\cdot \\sum_{i=1}^n \\mathbf{E}(X_i)=\\mu\\\\\n",
    "\\mathbf{D}(A) &= \\mathbf{D}\\left(\\frac{1}{n}\\cdot \\sum_{i=1}^n X_i\\right) =\\frac{1}{n^2}\\cdot \\sum_{i=1}^n \\mathbf{D}(X_i)=\\frac{\\sigma^2}{n}\\enspace.\n",
    "\\end{align*}\n",
    "\n",
    "Now we substitute theoretical parameters with their point estimates and get \n",
    "\n",
    "\\begin{align*}\n",
    "A\\approx\\mathcal{N}\\left(\\hat{\\mu}, \\frac{\\hat{\\sigma}}{\\sqrt{n}}\\right)\\enspace.\n",
    "\\end{align*}"
   ]
  },
  {
   "cell_type": "markdown",
   "id": "84d59d1a",
   "metadata": {},
   "source": [
    "## IV. Theoretical approximation\n",
    "\n",
    "The convergence of distributions is elusive concept that can simplified into practical criterion:\n",
    "\n",
    "A sequence of unidimensional distribution $\\mathcal{D}_1,\\mathcal{D}_2,\\ldots$ converges to a distribution $\\mathcal{D}$ if for any range $[a,b]$ the corresponding probabilities are linken\n",
    "\n",
    "\\begin{align*}\n",
    "|\\Pr[x\\gets \\mathcal{D}: x\\in [a,b]]-\\Pr[x\\gets \\mathcal{D}_n: x\\in [a,b]]|\\leq \\delta \n",
    "\\end{align*}\n",
    "\n",
    "for large enough $n$. \n",
    "This implies that we can use the distribution $\\mathcal{D}$ to appoximate probabilities\n",
    "\n",
    "\\begin{align*}\n",
    "\\Pr[x\\gets \\mathcal{D}: x\\in [a,b]] - \\delta \\leq \\Pr[x\\gets \\mathcal{D}_n: x\\in [a,b]] \\leq \\Pr[x\\gets \\mathcal{D}: x\\in [a,b]] + \\delta\n",
    "\\end{align*}\n",
    "\n",
    "when $n$ is large enough. \n",
    "Note that $n$ can depend on the endpoints $a$ and $b$, i.e. the approximation is not universal."
   ]
  },
  {
   "cell_type": "markdown",
   "id": "84d5ec70",
   "metadata": {},
   "source": [
    "## V. Practical approximation\n",
    "\n",
    "In practice we are interested which is the best range to find the sum $S$ and the average $A$.\n",
    "For that we blindly assume that the approximation error $\\delta$ is negligible for our calculations.\n",
    "As the density of normal distribution is higest around the mean we can consider intervals\n",
    "\n",
    "### Approximation for sum $S$\n",
    "\n",
    "* 68.0% confidence interval\n",
    "$[n\\hat{\\mu}-1\\sqrt{n}\\hat{\\sigma}, n\\hat{\\mu}+1\\sqrt{n}\\hat{\\sigma}]$\n",
    "\n",
    "* 95.0% confidence interval\n",
    "$[n\\hat{\\mu}-2\\sqrt{n}\\hat{\\sigma}, n\\hat{\\mu}+2\\sqrt{n}\\hat{\\sigma}]$\n",
    "\n",
    "* 99.7% confidence interval\n",
    "$[n\\hat{\\mu}-3\\sqrt{n}\\hat{\\sigma}, n\\hat{\\mu}+3\\sqrt{n}\\hat{\\sigma}]$\n",
    "\n",
    "### Approximation for average $A$\n",
    "\n",
    "* 68.0% confidence interval\n",
    "$\\left[\\hat{\\mu}-\\frac{\\hat{\\sigma}}{\\sqrt{n}}, \\hat{\\mu}+\\frac{\\hat{\\sigma}}{\\sqrt{n}}\\right]$\n",
    "\n",
    "\n",
    "* 95.0% confidence interval\n",
    "$\\left[\\hat{\\mu}-\\frac{2\\hat{\\sigma}}{\\sqrt{n}}, \\hat{\\mu}+\\frac{2\\hat{\\sigma}}{\\sqrt{n}}\\right]$\n",
    "\n",
    "\n",
    "\n",
    "* 99.7% confidence interval\n",
    "$\\left[\\hat{\\mu}-\\frac{3\\hat{\\sigma}}{\\sqrt{n}}, \\hat{\\mu}+\\frac{3\\hat{\\sigma}}{\\sqrt{n}}\\right]$\n",
    "\n",
    "\n",
    "Traditionally one reports 68% confidence intervals to show the variability. \n",
    "This is usually expressed like number $\\pm$ standard deviation (e.g. $55\\pm 3$ %)."
   ]
  }
 ],
 "metadata": {
  "kernelspec": {
   "display_name": "Python 3 (ipykernel)",
   "language": "python",
   "name": "python3"
  },
  "language_info": {
   "codemirror_mode": {
    "name": "ipython",
    "version": 3
   },
   "file_extension": ".py",
   "mimetype": "text/x-python",
   "name": "python",
   "nbconvert_exporter": "python",
   "pygments_lexer": "ipython3",
   "version": "3.10.16"
  }
 },
 "nbformat": 4,
 "nbformat_minor": 5
}
