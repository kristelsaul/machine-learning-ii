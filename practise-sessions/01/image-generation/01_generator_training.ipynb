{
 "cells": [
  {
   "cell_type": "markdown",
   "id": "b7ef32de-db60-44e3-82b7-9afcb3ecfa70",
   "metadata": {},
   "source": [
    "# MNIST image genration using Conditional Generative Adversarial Networks\n",
    "\n",
    "* The code is adapted from [the official keras documentation](https://github.com/keras-team/keras-io/blob/9199eeed37e946a632ac38f6740010f86868b0da/examples/generative/conditional_gan.py). \n",
    "* See further details from the [readme.md](image_generators/conditional_gan/readme.md). "
   ]
  },
  {
   "cell_type": "code",
   "execution_count": 33,
   "id": "771d6a4d-eef0-4cda-83d6-c7eda23580cd",
   "metadata": {},
   "outputs": [],
   "source": [
    "import keras\n",
    "import numpy as np\n",
    "import tensorflow as tf\n",
    "import matplotlib.pyplot as plt\n",
    "\n",
    "from keras import ops\n",
    "\n",
    "from image_generators.conditional_gan import ConditionalGAN\n",
    "from image_generators.conditional_gan.default_components import config\n",
    "from image_generators.conditional_gan.default_components import discriminator\n",
    "from image_generators.conditional_gan.default_components import generator"
   ]
  },
  {
   "cell_type": "markdown",
   "id": "eab526ef-38b2-4765-9467-f2db49321d8e",
   "metadata": {},
   "source": [
    "## I. Loading the MNIST dataset and preprocessing it\n",
    "\n",
    "We'll use all the available examples from both the training and test sets."
   ]
  },
  {
   "cell_type": "code",
   "execution_count": null,
   "id": "7d03851b-0ded-4b03-bd24-bc1232ea1c04",
   "metadata": {},
   "outputs": [],
   "source": [
    "(x_train, y_train), (x_test, y_test) = keras.datasets.mnist.load_data()\n",
    "all_digits = np.concatenate([x_train, x_test])\n",
    "all_labels = np.concatenate([y_train, y_test])"
   ]
  },
  {
   "cell_type": "markdown",
   "id": "9471e7de-3310-49c1-b1b5-2f75e0042594",
   "metadata": {},
   "source": [
    "Scale the pixel values to $[0, 1]$ range, add a channel dimension to the images, and one-hot encode the labels."
   ]
  },
  {
   "cell_type": "code",
   "execution_count": null,
   "id": "60848e8f-6d05-4b8e-ad33-90e2fd4ed308",
   "metadata": {},
   "outputs": [],
   "source": [
    "all_digits = all_digits.astype(\"float32\") / 255.0\n",
    "all_digits = np.reshape(all_digits, (-1, 28, 28, 1))\n",
    "all_labels = keras.utils.to_categorical(all_labels, 10)"
   ]
  },
  {
   "cell_type": "markdown",
   "id": "6b42d74f-ba44-414d-8cfd-e632f2b0bbfa",
   "metadata": {},
   "source": [
    "Create dataset of type `tf.data.Dataset` for training. \n",
    "For that we need to fix batch sise that is defined in the model config `config`."
   ]
  },
  {
   "cell_type": "code",
   "execution_count": 23,
   "id": "6be47e1a-fafc-4c46-89bf-10bdefd8c0bd",
   "metadata": {},
   "outputs": [
    {
     "name": "stdout",
     "output_type": "stream",
     "text": [
      "Shape of training images: (70000, 28, 28, 1)\n",
      "Shape of training labels: (70000, 10)\n"
     ]
    }
   ],
   "source": [
    "dataset = tf.data.Dataset.from_tensor_slices((all_digits, all_labels))\n",
    "dataset = dataset.shuffle(buffer_size=1024).batch(config.batch_size)\n",
    "\n",
    "print(f\"Shape of training images: {all_digits.shape}\")\n",
    "print(f\"Shape of training labels: {all_labels.shape}\")"
   ]
  },
  {
   "cell_type": "markdown",
   "id": "7cd66604-ddac-4ade-a2cd-887578c98b9f",
   "metadata": {},
   "source": [
    "## II. Train the Conditional GAN\n",
    "\n",
    "We use the default configuration and default components to train the GAN model. "
   ]
  },
  {
   "cell_type": "code",
   "execution_count": 17,
   "id": "08d6057a-412b-4faa-b664-aa47e192fb82",
   "metadata": {},
   "outputs": [],
   "source": [
    "gan_model = ConditionalGAN(\n",
    "    discriminator=discriminator, \n",
    "    generator=generator, \n",
    "    latent_dim=config.latent_dim,\n",
    "    image_size=config.image_size,\n",
    "    num_classes=config.num_classes\n",
    ")\n",
    "\n",
    "gan_model.compile(\n",
    "    d_optimizer=keras.optimizers.Adam(learning_rate=0.0003),\n",
    "    g_optimizer=keras.optimizers.Adam(learning_rate=0.0003),\n",
    "    loss_fn=keras.losses.BinaryCrossentropy(from_logits=True),\n",
    ")"
   ]
  },
  {
   "cell_type": "code",
   "execution_count": 24,
   "id": "3f986b8a-5008-40e2-97f5-cb8497c29ed9",
   "metadata": {},
   "outputs": [
    {
     "name": "stdout",
     "output_type": "stream",
     "text": [
      "\u001b[1m1094/1094\u001b[0m \u001b[32m━━━━━━━━━━━━━━━━━━━━\u001b[0m\u001b[37m\u001b[0m \u001b[1m233s\u001b[0m 212ms/step - d_loss: 0.3924 - g_loss: 1.6393\n"
     ]
    },
    {
     "data": {
      "text/plain": [
       "<keras.src.callbacks.history.History at 0x13c195600>"
      ]
     },
     "execution_count": 24,
     "metadata": {},
     "output_type": "execute_result"
    }
   ],
   "source": [
    "gan_model.fit(dataset, epochs=20)"
   ]
  },
  {
   "cell_type": "markdown",
   "id": "4268d371-da62-47e4-8867-f63d9978cdbb",
   "metadata": {},
   "source": [
    "## III. Example usage of trained generator\n",
    "\n",
    "The use of one-hot encoding of classes allows us to interpolate between classes as done in the keras documentation but we do not use it here.  "
   ]
  },
  {
   "cell_type": "code",
   "execution_count": 94,
   "id": "ac554b7f-8ec1-4da7-9a73-31a6cc7edfcd",
   "metadata": {},
   "outputs": [],
   "source": [
    "def generate_samples(generator, config, label: int, sample_count: int):\n",
    "    \"\"\"\n",
    "    Generates random elements from the fixed image class.\n",
    "    Return tensor (sample_count, image_size, image_size, 1) of floats in the range [0, 1].\n",
    "    That is exactly the same format as MNIST dataset is.\n",
    "    \"\"\" \n",
    "    assert len(generator.input_shape) == 2, \"Invalid input shape of the generator model\"\n",
    "    assert generator.input_shape[0] is None, \"Invalid input shape of the generator model\"\n",
    "    assert generator.input_shape[1] == config.latent_dim + config.num_classes, \"Invalid shape of the generator model\"\n",
    "\n",
    "    generator_noise = keras.random.normal(shape=(sample_count, config.latent_dim))\n",
    "    label_tensor = ops.cast(keras.utils.to_categorical([label], config.num_classes), \"float32\")\n",
    "    label_tensor = tf.tile(label_tensor, [sample_count, 1]) \n",
    "    generator_input = ops.concatenate([generator_noise, label_tensor], 1)\n",
    "    \n",
    "    return generator.predict(generator_input)"
   ]
  },
  {
   "cell_type": "code",
   "execution_count": 145,
   "id": "f5f6605b-06c5-4c26-b944-03968640f958",
   "metadata": {},
   "outputs": [
    {
     "name": "stdout",
     "output_type": "stream",
     "text": [
      "\u001b[1m1/1\u001b[0m \u001b[32m━━━━━━━━━━━━━━━━━━━━\u001b[0m\u001b[37m\u001b[0m \u001b[1m0s\u001b[0m 28ms/step\n"
     ]
    },
    {
     "data": {
      "text/plain": [
       "<matplotlib.image.AxesImage at 0x158371480>"
      ]
     },
     "execution_count": 145,
     "metadata": {},
     "output_type": "execute_result"
    },
    {
     "data": {
      "image/png": "[encoded data removed]",
      "text/plain": [
       "<Figure size 1000x800 with 4 Axes>"
      ]
     },
     "metadata": {},
     "output_type": "display_data"
    }
   ],
   "source": [
    "generated_images = generate_samples(gan_model.generator, config, label=0, sample_count=4)\n",
    "fig, axs = plt.subplots(1, 4, figsize=(10, 8))\n",
    "axs[0].imshow(generated_images[0,:,:,0], cmap='gray', vmin=0, vmax=1)\n",
    "axs[1].imshow(generated_images[1,:,:,0], cmap='gray', vmin=0, vmax=1)\n",
    "axs[2].imshow(generated_images[0,:,:,0], cmap='gray', vmin=0, vmax=1)\n",
    "axs[3].imshow(generated_images[1,:,:,0], cmap='gray', vmin=0, vmax=1)"
   ]
  },
  {
   "cell_type": "code",
   "execution_count": 127,
   "id": "9c5f4994-5b7f-4f09-b5a3-6d3b545bf634",
   "metadata": {},
   "outputs": [],
   "source": [
    "def generate_spurious_samples(generator, config, label_1: int, label_2: int, prop_vec: np.array):\n",
    "    \"\"\"\n",
    "    Generates random surrogate elements between two image classes.\n",
    "    Elements in prop_vec show the contribution of the first image class.\n",
    "    Return tensor (sample_count, image_size, image_size, 1) of floats in the range [0, 1].\n",
    "    That is exactly the same format as MNIST dataset is.\n",
    "    \"\"\"\n",
    "    assert len(prop_vec.shape) == 1, \"Invalid shape of the proportion vector\"\n",
    "    assert len(generator.input_shape) == 2, \"Invalid input shape of the generator model\"\n",
    "    assert generator.input_shape[0] is None, \"Invalid input shape of the generator model\"\n",
    "    assert generator.input_shape[1] == config.latent_dim + config.num_classes, \"Invalid shape of the generator model\"\n",
    "\n",
    "    sample_count = len(prop_vec)\n",
    "    generator_noise = keras.random.normal(shape=(sample_count, config.latent_dim))\n",
    "    label_1 = ops.cast(keras.utils.to_categorical([label_1], config.num_classes), \"float32\")\n",
    "    label_2 = ops.cast(keras.utils.to_categorical([label_2], config.num_classes), \"float32\")\n",
    "\n",
    "    prop_vec = ops.cast(ops.reshape(prop_vec, (len(prop_vec), 1)), \"float32\")\n",
    "    label_tensor = label_1 * prop_vec + label_2 * (1 - prop_vec)\n",
    "    generator_input = ops.concatenate([generator_noise, label_tensor], 1)\n",
    "    \n",
    "    return generator.predict(generator_input)"
   ]
  },
  {
   "cell_type": "code",
   "execution_count": 147,
   "id": "1a670ad5-dfab-43d0-8b4e-7301df07631b",
   "metadata": {},
   "outputs": [
    {
     "name": "stdout",
     "output_type": "stream",
     "text": [
      "\u001b[1m1/1\u001b[0m \u001b[32m━━━━━━━━━━━━━━━━━━━━\u001b[0m\u001b[37m\u001b[0m \u001b[1m0s\u001b[0m 25ms/step\n"
     ]
    },
    {
     "data": {
      "text/plain": [
       "<matplotlib.image.AxesImage at 0x158fd1b70>"
      ]
     },
     "execution_count": 147,
     "metadata": {},
     "output_type": "execute_result"
    },
    {
     "data": {
      "image/png": "[encoded data removed]",
      "text/plain": [
       "<Figure size 1000x800 with 4 Axes>"
      ]
     },
     "metadata": {},
     "output_type": "display_data"
    }
   ],
   "source": [
    "generated_images = generate_spurious_samples(gan_model.generator, config, label_1=0, label_2=1, prop_vec=ops.linspace(0, 1, 4))\n",
    "fig, axs = plt.subplots(1, 4, figsize=(10, 8))\n",
    "axs[0].imshow(generated_images[0,:,:,0], cmap='gray', vmin=0, vmax=1)\n",
    "axs[1].imshow(generated_images[1,:,:,0], cmap='gray', vmin=0, vmax=1)\n",
    "axs[2].imshow(generated_images[2,:,:,0], cmap='gray', vmin=0, vmax=1)\n",
    "axs[3].imshow(generated_images[3,:,:,0], cmap='gray', vmin=0, vmax=1)"
   ]
  },
  {
   "cell_type": "markdown",
   "id": "c1444a20-f1bb-4eba-a3c7-9d30753ab954",
   "metadata": {},
   "source": [
    "# IV. Save the model weights\n",
    "\n",
    "Tactically it is better to save generator and discriminator separately as they are pure `keras` models and do not need infrastructure to restore them."
   ]
  },
  {
   "cell_type": "code",
   "execution_count": 144,
   "id": "28cbdcd4-7721-465c-947a-25ba1447075f",
   "metadata": {},
   "outputs": [],
   "source": [
    "gan_model.generator.save('models/mnist_gan_generator.keras')\n",
    "gan_model.discriminator.save('models/mnist_gan_discriminator.keras')"
   ]
  }
 ],
 "metadata": {
  "kernelspec": {
   "display_name": "Python 3 (ipykernel)",
   "language": "python",
   "name": "python3"
  },
  "language_info": {
   "codemirror_mode": {
    "name": "ipython",
    "version": 3
   },
   "file_extension": ".py",
   "mimetype": "text/x-python",
   "name": "python",
   "nbconvert_exporter": "python",
   "pygments_lexer": "ipython3",
   "version": "3.10.16"
  }
 },
 "nbformat": 4,
 "nbformat_minor": 5
}
